{
 "cells": [
  {
   "cell_type": "code",
   "execution_count": null,
   "id": "92efa546",
   "metadata": {},
   "outputs": [],
   "source": [
    "# install this python library if you havn't already installed  #\n",
    "\n",
    "%pip install gdown\n",
    "%pip install opencv-python\n",
    "%pip install albumentations\n",
    "%pip install tqdm\n",
    "%pip install numpy\n",
    "%pip install pandas\n",
    "%pip install matplotlib"
   ]
  },
  {
   "cell_type": "code",
   "execution_count": null,
   "id": "17998b21",
   "metadata": {},
   "outputs": [],
   "source": [
    "######################### Prepare data (data downloading) ########################\n",
    "\n",
    "# Run below code only once!\n",
    "# then this will prepare data for training(train data) first, then\n",
    "# it will sample validation from train data.\n",
    "# don't run below code twice because, if you do, there will be more validation sampling.."
   ]
  },
  {
   "cell_type": "code",
   "execution_count": null,
   "id": "b7f09fb3",
   "metadata": {},
   "outputs": [],
   "source": [
    "%pwd"
   ]
  },
  {
   "cell_type": "code",
   "execution_count": null,
   "id": "f6223a6e",
   "metadata": {},
   "outputs": [],
   "source": [
    "!gdown https://drive.google.com/uc?id=1SilDTJ6IZbW378m3vAWat8xoQI-iBJrQ"
   ]
  },
  {
   "cell_type": "code",
   "execution_count": null,
   "id": "9002cb45",
   "metadata": {},
   "outputs": [],
   "source": [
    "!unzip '/home/kwy00/open.zip' -d '/home/kwy00/ysy'"
   ]
  },
  {
   "cell_type": "code",
   "execution_count": null,
   "id": "37630f43",
   "metadata": {},
   "outputs": [],
   "source": [
    "###################################\n",
    "#  Colab Version (data download)  #\n",
    "###################################\n",
    "\n",
    "# instead use link on google drive\n",
    "# !unzip -qq \"/content/drive/MyDrive/open.zip\" -d '/content/drive/MyDrive/contest2'\n",
    "\n",
    "#%pwd\n",
    "#%cd /content/drive/MyDrive/contest2/train"
   ]
  },
  {
   "cell_type": "code",
   "execution_count": null,
   "id": "2d264481",
   "metadata": {},
   "outputs": [],
   "source": [
    "import glob\n",
    "import random\n",
    "import numpy as np"
   ]
  },
  {
   "cell_type": "code",
   "execution_count": null,
   "id": "4637d253",
   "metadata": {},
   "outputs": [],
   "source": [
    "%cd /home/kwy00/ysy/train"
   ]
  },
  {
   "cell_type": "code",
   "execution_count": null,
   "id": "4fe77b54",
   "metadata": {},
   "outputs": [],
   "source": [
    "# before dividing samples\n",
    "total_image = sorted(glob.glob('./*.png'))\n",
    "total_annotation = sorted(glob.glob('./*.txt'))"
   ]
  },
  {
   "cell_type": "code",
   "execution_count": null,
   "id": "99970e32",
   "metadata": {},
   "outputs": [],
   "source": [
    "### check sampling validality\n",
    "sampling_choice = random.sample(range(len(total_image)), 1000)\n",
    "sampling_choice\n",
    "len(np.unique(sampling_choice))\n",
    "\n",
    "### check pairing validality\n",
    "for i in range(len(total_image)):\n",
    "  if total_image[i][2:11] != total_annotation[i][2:11]:\n",
    "      print(\"Not paired!\")\n",
    "\n",
    "### check file name validality\n",
    "for i in range(len(total_image)):\n",
    "  if len(total_image[i]) != 15:\n",
    "    print(\"different file name length!\")\n",
    "\n",
    "total_annotation\n",
    "total_image\n"
   ]
  },
  {
   "cell_type": "code",
   "execution_count": null,
   "id": "32202754",
   "metadata": {},
   "outputs": [],
   "source": [
    "###########################################################\n",
    "# creating validation folder (train validation data split)\n",
    "# train:valid ratio : 5481:1000 -> 6481\n",
    "# location : /home/kwyoo/ysy/valid/\n",
    "###########################################################\n",
    "%cd /home/kwy00/ysy/train\n",
    "\n",
    "import random\n",
    "import shutil\n",
    "\n",
    "\n",
    "valid_size = 1000\n",
    "\n",
    "sampling_choice = random.sample(range(len(total_image)), valid_size)\n",
    "src = '/home/kwy00/ysy/train/'\n",
    "dst = '/home/kwy00/ysy/valid/'\n",
    "for choice in sampling_choice:\n",
    "    chosen_image = total_image[choice]\n",
    "    chosen_annotation = total_annotation[choice]\n",
    "    shutil.move(src + chosen_image[2:], dst + chosen_image[2:])\n",
    "    shutil.move(src + chosen_annotation[2:], dst + chosen_annotation[2:])\n",
    "\n",
    "\n",
    "%cd /home/kwy00/ysy/"
   ]
  },
  {
   "cell_type": "code",
   "execution_count": null,
   "id": "a23c4314",
   "metadata": {},
   "outputs": [],
   "source": [
    "## check valid directory\n",
    "valid_image = sorted(glob.glob('./valid/*.png'))\n",
    "valid_annotation = sorted(glob.glob('./valid/*.txt'))\n",
    "\n",
    "print(\"valid image count : \", len(valid_image))\n",
    "print(\"valid annotation count : \", len(valid_annotation))\n",
    "\n",
    "for i in range(len(valid_image)):\n",
    "    if valid_image[i][8:17] != valid_annotation[i][8:17]:\n",
    "        print(\"Wrong Sampled!!!!\")\n",
    "        \n",
    "print(\"Pass integrity!!\")"
   ]
  },
  {
   "cell_type": "code",
   "execution_count": null,
   "id": "148eb785",
   "metadata": {},
   "outputs": [],
   "source": [
    "total_image = sorted(glob.glob('train/*.png'))\n",
    "total_annotation = sorted(glob.glob('train/*.txt'))\n",
    "\n",
    "len(total_image) # should be 5481"
   ]
  }
 ],
 "metadata": {
  "kernelspec": {
   "display_name": "Python 3 (ipykernel)",
   "language": "python",
   "name": "python3"
  },
  "language_info": {
   "codemirror_mode": {
    "name": "ipython",
    "version": 3
   },
   "file_extension": ".py",
   "mimetype": "text/x-python",
   "name": "python",
   "nbconvert_exporter": "python",
   "pygments_lexer": "ipython3",
   "version": "3.10.12"
  }
 },
 "nbformat": 4,
 "nbformat_minor": 5
}
